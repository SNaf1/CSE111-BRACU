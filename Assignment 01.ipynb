{
 "cells": [
  {
   "cell_type": "code",
   "execution_count": null,
   "metadata": {},
   "outputs": [],
   "source": [
    "#Name: Sadnan Nafis\n",
    "#ID: 21201249\n",
    "#Section: 07\n",
    "#Assignment-1"
   ]
  },
  {
   "cell_type": "code",
   "execution_count": 1,
   "metadata": {},
   "outputs": [
    {
     "name": "stdout",
     "output_type": "stream",
     "text": [
      "HOUSE\n"
     ]
    }
   ],
   "source": [
    "#String\n",
    "#Task 1\n",
    "string1 = input(\"Enter a string: \")\n",
    "# setting count of uppercase and lowercase letters\n",
    "upper_count = 0\n",
    "lower_count = 0\n",
    "for i in string1:\n",
    "    if i.isupper():\n",
    "        # if letter uppercase increasing upper_count by 1\n",
    "        upper_count +=1\n",
    "    elif i.islower():\n",
    "        # if letter lowercase increasing lower_count by 1\n",
    "        lower_count +=1\n",
    "        \n",
    "#checking condition\n",
    "if upper_count > lower_count:\n",
    "    print(string1.upper())\n",
    "elif lower_count >= upper_count:\n",
    "    print(string1.lower())\n"
   ]
  },
  {
   "cell_type": "code",
   "execution_count": 9,
   "metadata": {},
   "outputs": [
    {
     "name": "stdout",
     "output_type": "stream",
     "text": [
      "WORD\n"
     ]
    }
   ],
   "source": [
    "#String\n",
    "#Task 2\n",
    "# taking string input\n",
    "string1 = input(\"Enter a string: \")\n",
    "\n",
    "#printing according to conditions\n",
    "if string1.isnumeric():\n",
    "    print(\"NUMBER\")\n",
    "elif string1.isalpha():\n",
    "    print(\"WORD\")\n",
    "else:\n",
    "    print(\"MIXED\")"
   ]
  },
  {
   "cell_type": "code",
   "execution_count": 9,
   "metadata": {},
   "outputs": [
    {
     "name": "stdout",
     "output_type": "stream",
     "text": [
      "2\n",
      "3\n",
      "[]\n",
      "BLANK\n"
     ]
    }
   ],
   "source": [
    "str1 = input(\"Enter\")\n",
    "str2 = []\n",
    "str3 = \"\"\n",
    "for i in str1:\n",
    "    if i.isupper():\n",
    "        first_upper = str1.index(i)\n",
    "        break\n",
    "\n",
    "for j in str1:\n",
    "    if j.isupper() and str1.index(j)!= first_upper:\n",
    "        second_upper = str1.index(j)\n",
    "\n",
    "for i in range(first_upper+1,second_upper):\n",
    "    str2.append(str1[i])\n",
    "\n",
    "str4 = str3.join(str2)\n",
    "\n",
    "if str4 != \"\":\n",
    "    print(str4)\n",
    "else:\n",
    "    print(\"BLANK\")"
   ]
  },
  {
   "cell_type": "code",
   "execution_count": 5,
   "metadata": {},
   "outputs": [
    {
     "name": "stdout",
     "output_type": "stream",
     "text": [
      "BLANK\n"
     ]
    }
   ],
   "source": [
    "#String\n",
    "#Task 3\n",
    "string1 = input(\"Enter a string: \")\n",
    "\n",
    "for i in string1:\n",
    "    #getting index of first uppercase letter\n",
    "    if i.isupper():\n",
    "        first_cap = string1.index(i)\n",
    "        break\n",
    "for i in string1:\n",
    "    #getting index of second uppercase letter\n",
    "    if i.isupper():\n",
    "        second_cap = string1.index(i)\n",
    "        \n",
    "# splitting string to get the middle substring\n",
    "new_string = string1[first_cap+1:second_cap]\n",
    "if len(new_string) != 0:\n",
    "    print(new_string)\n",
    "else:\n",
    "    print(\"BLANK\")"
   ]
  },
  {
   "cell_type": "code",
   "execution_count": 4,
   "metadata": {},
   "outputs": [
    {
     "name": "stdout",
     "output_type": "stream",
     "text": [
      "This book is good too!\n"
     ]
    }
   ],
   "source": [
    "#String\n",
    "#Task 4\n",
    "# taking string input\n",
    "# string1 = input(\"Enter a string: \")\n",
    "# pos_too = string1.index(\"too\")\n",
    "# pos_good = string1.index(\"good\")\n",
    "\n",
    "\n",
    "# # checking if good follows too\n",
    "# if pos_too + 4 == pos_good:\n",
    "#     new_string = string1.replace(string1[pos_too:pos_good+4], \"excellent\")\n",
    "#     print(new_string)\n",
    "# else:\n",
    "#     print(string1)\n",
    "\n",
    "#correction use find indstead of index\n",
    "string1 = input(\"Enter a string: \")\n",
    "pos_too = string1.find(\"too\")\n",
    "pos_good = string1.find(\"good\")\n",
    "\n",
    "\n",
    "# checking if good follows too\n",
    "if pos_too + 4 == pos_good:\n",
    "    new_string = string1.replace(string1[pos_too:pos_good+4], \"excellent\")\n",
    "    print(new_string)\n",
    "else:\n",
    "    print(string1)"
   ]
  },
  {
   "cell_type": "code",
   "execution_count": 8,
   "metadata": {},
   "outputs": [
    {
     "name": "stdout",
     "output_type": "stream",
     "text": [
      "the book is excellent\n"
     ]
    }
   ],
   "source": []
  },
  {
   "cell_type": "code",
   "execution_count": 8,
   "metadata": {},
   "outputs": [
    {
     "name": "stdout",
     "output_type": "stream",
     "text": [
      "Nothing in common.\n"
     ]
    }
   ],
   "source": [
    "#String\n",
    "#Task 5\n",
    "string1 = input(\"Enter a string: \")\n",
    "new_string = \"\"\n",
    "list1 = string1.split(\", \")\n",
    "for i in list1[0]:\n",
    "    if i in list1[1]:\n",
    "        new_string += i\n",
    "for i in list1[1]:\n",
    "    if i in list1[0]:\n",
    "        new_string += i\n",
    "if len(new_string) != 0:\n",
    "    print(new_string)\n",
    "else:\n",
    "    print(\"Nothing in common.\")"
   ]
  },
  {
   "cell_type": "code",
   "execution_count": 9,
   "metadata": {},
   "outputs": [
    {
     "name": "stdout",
     "output_type": "stream",
     "text": [
      "OK\n"
     ]
    }
   ],
   "source": [
    "#String\n",
    "#Task 6\n",
    "string1 = input(\"Enter a string: \")\n",
    "upper_count = 0\n",
    "lower_count = 0\n",
    "digit_count = 0\n",
    "special_count = 0\n",
    "\n",
    "# calculating count\n",
    "for i in string1:\n",
    "    if i.isupper():\n",
    "        upper_count += 1\n",
    "    elif i.islower():\n",
    "        lower_count += 1\n",
    "    elif i.isdigit():\n",
    "        digit_count += 1\n",
    "    elif i == \"_\" or i == \"$\" or i == \"#\" or i == \"@\":\n",
    "        special_count += 1\n",
    "\n",
    "# checking if password follows rule\n",
    "if upper_count > 0 and lower_count > 0 and special_count > 0 and digit_count > 0:\n",
    "    print(\"OK\")\n",
    "\n",
    "list1 = []\n",
    "# appending missing messages in list\n",
    "if upper_count == 0:\n",
    "    list1.append(\"Uppercase character missing\")\n",
    "if lower_count == 0:\n",
    "    list1.append(\"Lowercase character missing\")\n",
    "if digit_count == 0:\n",
    "    list1.append(\"Digit missing\")\n",
    "if special_count == 0:\n",
    "    list1.append(\"Special character missing\")\n",
    "\n",
    "# if multiple messages printing with commas\n",
    "for i in list1:\n",
    "    if i != list1[-1]:\n",
    "        print(i, end=\", \")\n",
    "    else:\n",
    "        print(i)"
   ]
  },
  {
   "cell_type": "code",
   "execution_count": 31,
   "metadata": {},
   "outputs": [
    {
     "name": "stdout",
     "output_type": "stream",
     "text": [
      "10 - 2 times\n",
      "20 - 2 times\n",
      "30 - 1 times\n",
      "50 - 1 times\n",
      "90 - 1 times\n"
     ]
    }
   ],
   "source": [
    "#List\n",
    "#Task 1\n",
    "list1 = []\n",
    "list2 = []\n",
    "list3 = []\n",
    "\n",
    "# taking inputs\n",
    "while True:\n",
    "    num_inp = input(\"Enter a number: \")\n",
    "    if num_inp == \"STOP\":\n",
    "        break\n",
    "    list1.append(int(num_inp))\n",
    "\n",
    "for i in list1:\n",
    "    if i not in list2:\n",
    "        list2.append(i)\n",
    "\n",
    "for i in list2:\n",
    "    counter = list1.count(i)\n",
    "    list3.append(counter)\n",
    "\n",
    "for i in range(len(list2)):\n",
    "    print(list2[i], \"-\", list3[i], \"times\")\n"
   ]
  },
  {
   "cell_type": "code",
   "execution_count": 8,
   "metadata": {},
   "outputs": [
    {
     "name": "stdout",
     "output_type": "stream",
     "text": [
      "33\n",
      "[10, 11, 12]\n"
     ]
    }
   ],
   "source": [
    "#List\n",
    "#Task 2\n",
    "max_sum = None\n",
    "max_list = None\n",
    "\n",
    "for i in range(int(input(\"Enter N: \"))):\n",
    "    list2 = []\n",
    "    # taking input and converting to list\n",
    "    list_inp = input(\"Enter a list: \")\n",
    "    list1 = list_inp.split()\n",
    "\n",
    "    for i in list1:\n",
    "        list2.append(int(i))\n",
    "\n",
    "    if max_sum == None:\n",
    "        max_sum = sum(list2)\n",
    "        max_list = list2\n",
    "        \n",
    "    if sum(list2) > max_sum:\n",
    "        max_sum = sum(list2)\n",
    "        max_list = list2\n",
    "\n",
    "print(max_sum)\n",
    "print(max_list)"
   ]
  },
  {
   "cell_type": "code",
   "execution_count": 13,
   "metadata": {},
   "outputs": [
    {
     "name": "stdout",
     "output_type": "stream",
     "text": [
      "[6, 8, 10, 9, 12, 15, 18, 24, 30]\n"
     ]
    }
   ],
   "source": [
    "#List\n",
    "#Task 3\n",
    "# taking string as input and converting to list\n",
    "list_inp1 = input(\"Enter a list: \")\n",
    "list_inp2 = input(\"Enter a list: \")\n",
    "temp_list1 = list_inp1.split()\n",
    "temp_list2 = list_inp2.split()\n",
    "list1 = []\n",
    "list2 = []\n",
    "\n",
    "for i in temp_list1:\n",
    "    list1.append(int(i))\n",
    "for i in temp_list2:\n",
    "    list2.append(int(i))\n",
    "\n",
    "list3 = []\n",
    "\n",
    "# multiplying items of two lists\n",
    "for i in list1:\n",
    "    for j in list2:\n",
    "        list3.append(i*j)\n",
    "        \n",
    "print(list3)"
   ]
  },
  {
   "cell_type": "code",
   "execution_count": 11,
   "metadata": {},
   "outputs": [
    {
     "name": "stdout",
     "output_type": "stream",
     "text": [
      "UB Jumper\n",
      "UB Jumper\n",
      "Not UB Jumper\n"
     ]
    }
   ],
   "source": [
    "#List\n",
    "#Task 4\n",
    "while True:\n",
    "    list_inp = input(\"Enter a list: \")\n",
    "    # breaking out of loop if STOP input is given\n",
    "    if list_inp == \"STOP\":\n",
    "        break\n",
    "    temp_list1 = list_inp.split()\n",
    "    list1 = []\n",
    "    list2 = []\n",
    "    for i in temp_list1:\n",
    "        list1.append(int(i))\n",
    "\n",
    "    N = len(list1)\n",
    "\n",
    "    # finding absolute difference of items\n",
    "    for i in range(N-1):\n",
    "        abs_diff = abs(list1[i+1] - list1[i])\n",
    "        list2.append(abs_diff)\n",
    "    \n",
    "    # checking if list contains integers from 1 to N-1\n",
    "    if sorted(list2) == list(range(1, N)):\n",
    "        print(\"UB Jumper\")\n",
    "    else:\n",
    "        print(\"Not UB Jumper\")"
   ]
  },
  {
   "cell_type": "code",
   "execution_count": 5,
   "metadata": {},
   "outputs": [
    {
     "name": "stdout",
     "output_type": "stream",
     "text": [
      "acruB1324\n"
     ]
    }
   ],
   "source": [
    "#List\n",
    "#Task 5\n",
    "string_inp = input(\"Enter a string: \")\n",
    "list_lower = []\n",
    "list_upper = []\n",
    "list_odd = []\n",
    "list_even = []\n",
    "\n",
    "# appending lowercase/uppercase letter and digits into separate lists\n",
    "for i in string_inp:\n",
    "    if 97 <= ord(i) < 122:\n",
    "        list_lower.append(i)\n",
    "    elif 65 <= ord(i) <= 90:\n",
    "        list_upper.append(i)\n",
    "    elif 48 <= ord(i) <= 57:\n",
    "        if int(i) % 2 == 0:\n",
    "            list_even.append(i)\n",
    "        else:\n",
    "            list_odd.append(i)\n",
    "\n",
    "list_lower.sort()\n",
    "list_upper.sort()\n",
    "list_odd.sort()\n",
    "list_even.sort()\n",
    "list_all = list_lower.copy()\n",
    "\n",
    "#adding all items of 3 lists into 1\n",
    "list_all.extend(list_upper)\n",
    "list_all.extend(list_odd)\n",
    "list_all.extend(list_even)\n",
    "\n",
    "# joining these items from list_all into a string\n",
    "sorted_string = \"\".join(list_all)\n",
    "print(sorted_string)"
   ]
  },
  {
   "cell_type": "code",
   "execution_count": 15,
   "metadata": {},
   "outputs": [
    {
     "name": "stdout",
     "output_type": "stream",
     "text": [
      "2\n"
     ]
    }
   ],
   "source": [
    "#List\n",
    "#Task 6\n",
    "# taking inputs as string and converting to list\n",
    "list_inp1 = input(\"Enter n and k: \")\n",
    "list_inp2 = input(\"Enter integer values: \")\n",
    "temp_list1 = list_inp1.split()\n",
    "temp_list2 = list_inp2.split()\n",
    "list1 = []\n",
    "list2 = []\n",
    "team_list = []\n",
    "for i in temp_list1:\n",
    "        list1.append(int(i))\n",
    "for i in temp_list2:\n",
    "        list2.append(int(i))\n",
    "\n",
    "n = list1[0]\n",
    "k = list1[1]\n",
    "\n",
    "# adding k to values and appending to new_list if val < 5\n",
    "for i in list2:\n",
    "        new_value = i + k\n",
    "        if new_value <= 5:\n",
    "                team_list.append(new_value)\n",
    "\n",
    "# printing the number of teams that can be formed (1 team = 3 members)\n",
    "print(len(team_list)//3)"
   ]
  },
  {
   "cell_type": "code",
   "execution_count": 30,
   "metadata": {},
   "outputs": [
    {
     "name": "stdout",
     "output_type": "stream",
     "text": [
      "{'a': 400, 'b': 300, 'c': 200, 'd': 700, 'e': 200}\n",
      "Values: (200, 300, 400, 700)\n"
     ]
    }
   ],
   "source": [
    "#Dictionary and Tuple\n",
    "#Task 1\n",
    "# converting string input into dictionaries\n",
    "string_inp1 = input(\"Enter Dictionary: \")\n",
    "string_inp2 = input(\"Enter Dictionary: \")\n",
    "list1 = string_inp1.split(\", \")\n",
    "list2 = string_inp2.split(\", \")\n",
    "dict1 = {}\n",
    "dict2 = {}\n",
    "dict3 = {}\n",
    "\n",
    "for i in list1:\n",
    "    list_items1 = i.split(\": \")\n",
    "    dict1[list_items1[0]] = int(list_items1[1])\n",
    "\n",
    "for i in list2:\n",
    "    list_items2 = i.split(\": \")\n",
    "    dict2[list_items2[0]] = int(list_items2[1])\n",
    "\n",
    "# adding key, values into new dict from dict1\n",
    "for key in dict1.keys():\n",
    "    if key in dict2.keys():\n",
    "        dict3[key] = dict1[key] + dict2[key]\n",
    "    else:\n",
    "        dict3[key] = dict1[key]\n",
    "\n",
    "# if key from dict2 not in dict3 then adding it\n",
    "for key in dict2.keys():\n",
    "    if key not in dict3.keys():\n",
    "        dict3[key] = dict2[key]\n",
    "\n",
    "# finding unique values\n",
    "val_list = []\n",
    "for val in dict3.values():\n",
    "    if val not in val_list:\n",
    "        val_list.append(val)\n",
    "\n",
    "# sorting and converting list to tuple\n",
    "val_list.sort()\n",
    "val_tuple = tuple(val_list)\n",
    "print(dict3)\n",
    "print(\"Values:\", val_tuple)"
   ]
  },
  {
   "cell_type": "code",
   "execution_count": 40,
   "metadata": {},
   "outputs": [
    {
     "name": "stdout",
     "output_type": "stream",
     "text": [
      "10 - 2 times\n",
      "20 - 1 times\n",
      "30 - 3 times\n",
      "40 - 1 times\n",
      "60 - 1 times\n"
     ]
    }
   ],
   "source": [
    "#Dictionary and Tuple\n",
    "#Task 2\n",
    "dict1 = {}\n",
    "while True:\n",
    "    num_inp = input(\"Enter a number: \")\n",
    "    if num_inp == \"STOP\":\n",
    "        break\n",
    "    elif int(num_inp) not in dict1:\n",
    "        dict1[(int(num_inp))] = 1\n",
    "    else:\n",
    "        dict1[(int(num_inp))] += 1\n",
    "    \n",
    "for key, val in dict1.items():\n",
    "        print(key, \"-\", val, \"times\")"
   ]
  },
  {
   "cell_type": "code",
   "execution_count": 9,
   "metadata": {},
   "outputs": [
    {
     "name": "stdout",
     "output_type": "stream",
     "text": [
      "{'value1': ['key1', 'key3'], 'value2': ['key2']}\n"
     ]
    }
   ],
   "source": [
    "#Dictionary and Tuple\n",
    "#Task 3\n",
    "# converting string input into dictionaries\n",
    "string_inp1 = input(\"Enter Dictionary: \")\n",
    "list1 = string_inp1.split(\", \")\n",
    "dict1 = {}\n",
    "dict2 = {}\n",
    "dict3 = {}\n",
    "\n",
    "for i in list1:\n",
    "    list_items1 = i.split(\" : \")\n",
    "    \n",
    "    if list_items1[1] not in dict1:\n",
    "        dict1[list_items1[1]] = [(list_items1[0])]\n",
    "    else:\n",
    "        dict1[list_items1[1]].append(list_items1[0])\n",
    "    \n",
    "print(dict1)"
   ]
  },
  {
   "cell_type": "code",
   "execution_count": 27,
   "metadata": {},
   "outputs": [
    {
     "name": "stdout",
     "output_type": "stream",
     "text": [
      "Those strings are anagrams.\n"
     ]
    }
   ],
   "source": [
    "#Dictionary and Tuple\n",
    "#Task 4\n",
    "string_inp1 = input(\"Enter a string\")\n",
    "string_inp2 = input(\"Enter a string\")\n",
    "dict1 = {}\n",
    "dict2 = {}\n",
    "\n",
    "for i in string_inp1:\n",
    "    if i not in dict1:\n",
    "        dict1[i] = 1\n",
    "    else:\n",
    "        dict1[i] += 1\n",
    "\n",
    "for i in string_inp2:\n",
    "    if i not in dict2:\n",
    "        dict2[i] = 1\n",
    "    else:\n",
    "        dict2[i] += 1\n",
    "\n",
    "if dict1 == dict2:\n",
    "    print(\"Those strings are anagrams.\")\n",
    "else:\n",
    "    print(\"Those strings are not anagrams\")\n"
   ]
  },
  {
   "cell_type": "code",
   "execution_count": 9,
   "metadata": {},
   "outputs": [
    {
     "name": "stdout",
     "output_type": "stream",
     "text": [
      "4433555555666110966677755531111"
     ]
    }
   ],
   "source": [
    "#Dictionary and Tuple\n",
    "#Task 5\n",
    "# taking string input\n",
    "string_inp = input(\"Enter a word: \").upper()\n",
    "# button as dictionaries\n",
    "dict1 = {\"1\": \".,?!:\", \"2\" : \"ABC\", \"3\": \"DEF\", \"4\": \"GHI\", \"5\": \"JKL\", \"6\": \"MNO\", \"7\": \"PQRS\", \"8\": \"TUV\", \"9\": \"WXYZ\", \"0\": \" \"}\n",
    "\n",
    "for i in string_inp:\n",
    "    for key,val in dict1.items():\n",
    "        # checking if letter exists in val\n",
    "        if i in val:\n",
    "            print(key*(val.index(i)+1), end=\"\")\n"
   ]
  }
 ],
 "metadata": {
  "kernelspec": {
   "display_name": "Python 3.8.4 32-bit",
   "language": "python",
   "name": "python3"
  },
  "language_info": {
   "codemirror_mode": {
    "name": "ipython",
    "version": 3
   },
   "file_extension": ".py",
   "mimetype": "text/x-python",
   "name": "python",
   "nbconvert_exporter": "python",
   "pygments_lexer": "ipython3",
   "version": "3.8.4"
  },
  "orig_nbformat": 4,
  "vscode": {
   "interpreter": {
    "hash": "45037c9fa964e33746a67959e611b1255904e81b18931a74a47f598c93f55abd"
   }
  }
 },
 "nbformat": 4,
 "nbformat_minor": 2
}
