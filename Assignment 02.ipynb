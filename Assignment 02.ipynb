{
  "cells": [
    {
      "cell_type": "code",
      "execution_count": null,
      "metadata": {
        "id": "X70Y6aJ9kJxD"
      },
      "outputs": [],
      "source": [
        "#Name: Sadnan Nafis\n",
        "#ID: 21201249\n",
        "#Section: 07\n",
        "#Assignment-2"
      ]
    },
    {
      "cell_type": "code",
      "execution_count": 7,
      "metadata": {
        "colab": {
          "base_uri": "https://localhost:8080/"
        },
        "id": "JdTRDAAJFg6Z",
        "outputId": "62584323-10f7-4050-c21d-82c7eee9c408"
      },
      "outputs": [
        {
          "name": "stdout",
          "output_type": "stream",
          "text": [
            "0.5\n"
          ]
        }
      ],
      "source": [
        "# Task 1\n",
        "def fraction(num1, num2):\n",
        "    try:\n",
        "        div = (num1/num2)\n",
        "        floor_div = num1 // num2\n",
        "        result = round(div - floor_div, 2)\n",
        "        \n",
        "        if result == 0.0:\n",
        "            return 0\n",
        "        else:\n",
        "            return (result)\n",
        "\n",
        "    except ZeroDivisionError:\n",
        "        return 0\n",
        "\n",
        "num1_inp = int(input(\"Enter number 1: \"))\n",
        "num2_inp = int(input(\"Enter number 2: \"))\n",
        "print(fraction(num1_inp, num2_inp))"
      ]
    },
    {
      "cell_type": "code",
      "execution_count": 9,
      "metadata": {
        "colab": {
          "base_uri": "https://localhost:8080/"
        },
        "id": "dFdMs3h0qAaq",
        "outputId": "f24d7c31-b40b-415f-99d4-7b878c01827a"
      },
      "outputs": [
        {
          "name": "stdout",
          "output_type": "stream",
          "text": [
            "Score is 20.8. You are Normal\n"
          ]
        }
      ],
      "source": [
        "# Task 2\n",
        "# defining function\n",
        "def BMI(height_cm, weight):\n",
        "    height_m = height_cm / 100\n",
        "    bmi_temp = weight / (height_m) **2\n",
        "    bmi_final = round(bmi_temp, 1)\n",
        "\n",
        "    # printing result according to condition\n",
        "    if bmi_final < 18.5:\n",
        "        print(\"Score is\", str(bmi_final) + \".\", \"You are Underweight\")\n",
        "\n",
        "    elif 18.5 <= bmi_final <= 24.9:\n",
        "        print(\"Score is\", str(bmi_final) + \".\", \"You are Normal\")\n",
        "\n",
        "    elif 25 <= bmi_final <= 30:\n",
        "        print(\"Score is\", str(bmi_final) + \".\", \"You are Overweight\")\n",
        "\n",
        "    elif bmi_final > 30:\n",
        "        print(\"Score is\", str(bmi_final) + \".\", \"You are Obese\")\n",
        "\n",
        "# input tuple and calling function\n",
        "height_inp = int(input(\"Enter height in cm: \"))\n",
        "weight_inp = int(input(\"Enter weight: \"))\n",
        "BMI(height_inp, weight_inp)"
      ]
    },
    {
      "cell_type": "code",
      "execution_count": 10,
      "metadata": {
        "colab": {
          "base_uri": "https://localhost:8080/"
        },
        "id": "kviV8_3cG7Jh",
        "outputId": "8a1a0512-1b04-4df6-cefc-13090c29e1bd"
      },
      "outputs": [
        {
          "name": "stdout",
          "output_type": "stream",
          "text": [
            "20\n"
          ]
        }
      ],
      "source": [
        "# Task 3\n",
        "def divisor_sum(minimum, maximum, divisor):\n",
        "    list1 = []\n",
        "\n",
        "    for i in range(minimum, maximum):\n",
        "        if i % divisor == 0:\n",
        "            list1.append(i)\n",
        "\n",
        "    total_sum = sum(list1)\n",
        "    return total_sum\n",
        "\n",
        "# taking input\n",
        "min_inp = int(input(\"Enter minimum number: \"))\n",
        "max_inp = int(input(\"Enter maximum number: \"))\n",
        "div_inp = int(input(\"Enter divisor: \"))\n",
        "print(divisor_sum(min_inp, max_inp, div_inp))\n"
      ]
    },
    {
      "cell_type": "code",
      "execution_count": null,
      "metadata": {
        "colab": {
          "base_uri": "https://localhost:8080/"
        },
        "id": "Ks7nmQNQTVaq",
        "outputId": "2910a9df-e539-4e4f-a0a0-70b0d31d0641"
      },
      "outputs": [
        {
          "name": "stdout",
          "output_type": "stream",
          "text": [
            "223.6\n"
          ]
        }
      ],
      "source": [
        "# Task 4\n",
        "def price_calc(order_item, location = \"Mohakhali\"):\n",
        "    # given dict\n",
        "    dict1 = {\"BBQ Chicken Cheese Burger\": 250, \"Beef Burger\": 170, \"Naga Drums\": 200}\n",
        "    list1 = []\n",
        "    # iterating over list and adding the values to a list\n",
        "    if order_item in dict1:\n",
        "        meal_cost = dict1[order_item]\n",
        "        list1.append(meal_cost)\n",
        "    # adding delivery fee to list accordingly\n",
        "    if location == \"Mohakhali\":\n",
        "        list1.append(40)\n",
        "    else:\n",
        "        list1.append(60)\n",
        "\n",
        "    tax = meal_cost * 0.08\n",
        "    list1.append(tax)\n",
        "\n",
        "    total_price = sum(list1)\n",
        "    return total_price\n",
        "\n",
        "print(price_calc(\"Beef Burger\"))\n"
      ]
    },
    {
      "cell_type": "code",
      "execution_count": 11,
      "metadata": {
        "id": "sb4UAsWrkJxN"
      },
      "outputs": [
        {
          "name": "stdout",
          "output_type": "stream",
          "text": [
            "Changed: alice@sheba.xyz\n",
            "Unchanged: bob@sheba.xyz\n"
          ]
        }
      ],
      "source": [
        "# Task 5\n",
        "def replace_domain(email, new_domain, old_domain = \"kaaj.com\"):\n",
        "    pos_at = email.find(\"@\")\n",
        "    list1 = []\n",
        "    string1 = \"\"\n",
        "    for i in range(0, pos_at+1):\n",
        "        list1.append(email[i])\n",
        "    for i in range(pos_at+1, len(email)):\n",
        "        string1 += email[i]\n",
        "\n",
        "    # checking if email contains the new domain\n",
        "    if string1 == new_domain:\n",
        "        new_email = email\n",
        "        # if email contains new domain then keeping email unchanged\n",
        "        print(\"Unchanged:\", new_email)\n",
        "        \n",
        "    # if email doesn't contain new domain then replacing it\n",
        "    else:\n",
        "        list1.append(new_domain)\n",
        "        new_email = \"\".join(list1)\n",
        "        print(\"Changed:\", new_email)\n",
        "    \n",
        "\n",
        "replace_domain(\"alice@kaaj.com\", \"sheba.xyz\", \"kaaj.com\")\n",
        "replace_domain(\"bob@sheba.xyz\", \"sheba.xyz\")\n"
      ]
    },
    {
      "cell_type": "code",
      "execution_count": 6,
      "metadata": {
        "id": "0ozb-2MukJxO",
        "outputId": "a8dbb67c-e1e4-43b4-d2e4-4d761ac8897f"
      },
      "outputs": [
        {
          "name": "stdout",
          "output_type": "stream",
          "text": [
            "Vowels: E, E, O. Total number of vowels: 3\n"
          ]
        }
      ],
      "source": [
        "# Task 6\n",
        "def find_vowel(tuple1):\n",
        "    # vowel list\n",
        "    vowel_list = [\"a\", \"e\", \"i\", \"o\", \"u\", \"A\", \"E\", \"I\", \"O\", \"U\"]\n",
        "    list1 = []\n",
        "    string1 = \"\"\n",
        "\n",
        "    for i in tuple1:\n",
        "        if i in vowel_list:\n",
        "            list1.append(i)\n",
        "\n",
        "    # storing found vowels in a string\n",
        "    for i in list1:\n",
        "        if i != list1[-1]:\n",
        "            string1 += i\n",
        "            string1 += \", \"\n",
        "        else:\n",
        "            string1 += i\n",
        "\n",
        "    if len(list1) != 0:\n",
        "        print(\"Vowels:\", string1 + \".\", \"Total number of vowels:\", len(list1))\n",
        "    else:\n",
        "        print(\"No vowels in the name\")\n",
        "\n",
        "inp_tuple = input(\"Enter tuple: \")\n",
        "find_vowel(inp_tuple)"
      ]
    },
    {
      "cell_type": "code",
      "execution_count": null,
      "metadata": {
        "colab": {
          "base_uri": "https://localhost:8080/"
        },
        "id": "jhg0rF1AcFOw",
        "outputId": "84e6e6b7-f96f-47f1-d5df-cb18cee8f20d"
      },
      "outputs": [
        {
          "name": "stdout",
          "output_type": "stream",
          "text": [
            "Palindrome\n"
          ]
        }
      ],
      "source": [
        "# Task 7\n",
        "def palindrome_check(string1):\n",
        "    string1 = string1.replace(\" \", \"\")\n",
        "    # reversing string1\n",
        "    reversed_string = string1[::-1]\n",
        "\n",
        "    if string1 == reversed_string:\n",
        "        print(\"Palindrome\")\n",
        "    else:\n",
        "        print(\"Not a palindrome\")\n",
        "\n",
        "palindrome_check(\"nurses run\")"
      ]
    },
    {
      "cell_type": "code",
      "execution_count": 12,
      "metadata": {
        "colab": {
          "base_uri": "https://localhost:8080/"
        },
        "id": "RWbtnupMcr3u",
        "outputId": "9101eae7-5ac4-43ef-e551-4abe575054ce"
      },
      "outputs": [
        {
          "name": "stdout",
          "output_type": "stream",
          "text": [
            "11 years, 10 months and 5 days\n"
          ]
        }
      ],
      "source": [
        "# Task 8\n",
        "def day_calc(day):\n",
        "    # calculating year, month and days\n",
        "    year = day // 365\n",
        "    day = day % 365\n",
        "\n",
        "    month = day // 30\n",
        "    day = day % 30\n",
        "\n",
        "    print(year, \"years,\", month, \"months and\", day, \"days\")\n",
        "\n",
        "# taking input to pass to function\n",
        "inp_day = int(input(\"Enter number of days: \"))\n",
        "day_calc(inp_day)"
      ]
    },
    {
      "cell_type": "code",
      "execution_count": 19,
      "metadata": {
        "colab": {
          "base_uri": "https://localhost:8080/"
        },
        "id": "jHwJk_fyr32k",
        "outputId": "a557be65-e574-4374-c45b-7ca8bb98d0a0"
      },
      "outputs": [
        {
          "name": "stdout",
          "output_type": "stream",
          "text": [
            "My favourite animal is a dog. A dog has sharp teeth so that it can eat flesh very easily. Do you know my pet dog’s name? I love my pet very much.\n"
          ]
        }
      ],
      "source": [
        "# Task 9\n",
        "def capitalise(sentence):\n",
        "    list1 = sentence.split()\n",
        "\n",
        "    for i in range(len(list1)-1):\n",
        "        if list1[i][-1] == \".\" or list1[i][-1] == \"!\" or list1[i][-1] == \"?\":\n",
        "            list1[i+1] = list1[i+1].capitalize()\n",
        "        list1[0] = list1[0].capitalize()\n",
        "    for i in range(len(list1)):\n",
        "        if list1[i] == \"i\":\n",
        "            list1[i] = list1[i].capitalize()\n",
        "    \n",
        "    # joining words from list1 with a space into a string\n",
        "    new_string = \" \".join(list1)\n",
        "    return new_string\n",
        "\n",
        "print(capitalise(\"my favourite animal is a dog. a dog has sharp teeth so that it can eat flesh very easily. do you know my pet dog’s name? i love my pet very much.\"))"
      ]
    }
  ],
  "metadata": {
    "colab": {
      "collapsed_sections": [],
      "name": "Assignment02_21201249_Sadnan Nafis.ipynb",
      "provenance": []
    },
    "interpreter": {
      "hash": "e72c021257cbe36a14d5054c427b40deca840262e5293caa12d2865fdfb59fac"
    },
    "kernelspec": {
      "display_name": "Python 3.8.4 32-bit",
      "language": "python",
      "name": "python3"
    },
    "language_info": {
      "codemirror_mode": {
        "name": "ipython",
        "version": 3
      },
      "file_extension": ".py",
      "mimetype": "text/x-python",
      "name": "python",
      "nbconvert_exporter": "python",
      "pygments_lexer": "ipython3",
      "version": "3.8.4"
    },
    "orig_nbformat": 4
  },
  "nbformat": 4,
  "nbformat_minor": 0
}
